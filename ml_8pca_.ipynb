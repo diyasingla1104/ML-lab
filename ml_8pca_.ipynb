{
  "nbformat": 4,
  "nbformat_minor": 0,
  "metadata": {
    "colab": {
      "provenance": [],
      "authorship_tag": "ABX9TyO8yET3z5NcyCI4SQm/Ozax",
      "include_colab_link": true
    },
    "kernelspec": {
      "name": "python3",
      "display_name": "Python 3"
    },
    "language_info": {
      "name": "python"
    }
  },
  "cells": [
    {
      "cell_type": "markdown",
      "metadata": {
        "id": "view-in-github",
        "colab_type": "text"
      },
      "source": [
        "<a href=\"https://colab.research.google.com/github/diyasingla1104/ML-lab/blob/main/ml_8pca_.ipynb\" target=\"_parent\"><img src=\"https://colab.research.google.com/assets/colab-badge.svg\" alt=\"Open In Colab\"/></a>"
      ]
    },
    {
      "cell_type": "code",
      "source": [
        "import numpy as np\n",
        "import matplotlib.pyplot as plt\n",
        "\n",
        "# Given data\n",
        "X = np.array([[4, 11], [8, 4], [13, 5], [7, 14]])\n",
        "\n",
        "# Step 1: Compute the mean\n",
        "mean_X = np.mean(X, axis=0)\n",
        "print(\"Mean of each feature:\\n\", mean_X)\n",
        "\n",
        "# Step 2: Compute the covariance matrix\n",
        "cov_matrix = np.cov(X.T)\n",
        "print(\"Covariance Matrix:\\n\", cov_matrix)\n",
        "\n",
        "# Step 3: Compute eigenvalues and eigenvectors\n",
        "eigen_values, eigen_vectors = np.linalg.eig(cov_matrix)\n",
        "print(\"Eigenvalues:\\n\", eigen_values)\n",
        "print(\"Eigenvectors:\\n\", eigen_vectors)\n",
        "\n",
        "# Step 4: Sort eigenvalues and eigenvectors in descending order\n",
        "sorted_indices = np.argsort(eigen_values)[::-1]\n",
        "eigen_values = eigen_values[sorted_indices]\n",
        "eigen_vectors = eigen_vectors[:, sorted_indices]\n",
        "\n",
        "print(\"Sorted Eigenvalues:\\n\", eigen_values)\n",
        "print(\"Sorted Eigenvectors:\\n\", eigen_vectors)\n",
        "\n",
        "# Step 5: Select principal components\n",
        "principal_components = eigen_vectors[:, :2]\n",
        "print(\"Principal Components:\\n\", principal_components)\n",
        "\n",
        "\n"
      ],
      "metadata": {
        "colab": {
          "base_uri": "https://localhost:8080/"
        },
        "id": "u920rItfUUnM",
        "outputId": "abe2e4a0-2975-446f-a520-50fd17484127"
      },
      "execution_count": null,
      "outputs": [
        {
          "output_type": "stream",
          "name": "stdout",
          "text": [
            "Mean of each feature:\n",
            " [8.  8.5]\n",
            "Covariance Matrix:\n",
            " [[ 14. -11.]\n",
            " [-11.  23.]]\n",
            "Eigenvalues:\n",
            " [ 6.61513568 30.38486432]\n",
            "Eigenvectors:\n",
            " [[-0.83025082  0.55738997]\n",
            " [-0.55738997 -0.83025082]]\n",
            "Sorted Eigenvalues:\n",
            " [30.38486432  6.61513568]\n",
            "Sorted Eigenvectors:\n",
            " [[ 0.55738997 -0.83025082]\n",
            " [-0.83025082 -0.55738997]]\n",
            "Principal Components:\n",
            " [[ 0.55738997 -0.83025082]\n",
            " [-0.83025082 -0.55738997]]\n"
          ]
        }
      ]
    }
  ]
}