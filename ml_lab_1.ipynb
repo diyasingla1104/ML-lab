{
  "nbformat": 4,
  "nbformat_minor": 0,
  "metadata": {
    "colab": {
      "provenance": [],
      "authorship_tag": "ABX9TyOnQehnndNypGySRJMgW3Nh",
      "include_colab_link": true
    },
    "kernelspec": {
      "name": "python3",
      "display_name": "Python 3"
    },
    "language_info": {
      "name": "python"
    }
  },
  "cells": [
    {
      "cell_type": "markdown",
      "metadata": {
        "id": "view-in-github",
        "colab_type": "text"
      },
      "source": [
        "<a href=\"https://colab.research.google.com/github/diyasingla1104/ML-lab/blob/main/ml_lab_1.ipynb\" target=\"_parent\"><img src=\"https://colab.research.google.com/assets/colab-badge.svg\" alt=\"Open In Colab\"/></a>"
      ]
    },
    {
      "cell_type": "code",
      "execution_count": null,
      "metadata": {
        "id": "PyjowIwt_egr"
      },
      "outputs": [],
      "source": [
        "import numpy as np\n",
        "lst1=[1,2,3]\n",
        "array1 = np.array(lst1)"
      ]
    },
    {
      "cell_type": "code",
      "source": [
        "type(lst1)"
      ],
      "metadata": {
        "colab": {
          "base_uri": "https://localhost:8080/"
        },
        "id": "U3t2qLT2Av6p",
        "outputId": "1956f28f-6e5c-4f88-8bb8-bb9af4f7e6cf"
      },
      "execution_count": null,
      "outputs": [
        {
          "output_type": "execute_result",
          "data": {
            "text/plain": [
              "list"
            ]
          },
          "metadata": {},
          "execution_count": 2
        }
      ]
    },
    {
      "cell_type": "code",
      "source": [
        "type(array1)\n"
      ],
      "metadata": {
        "colab": {
          "base_uri": "https://localhost:8080/"
        },
        "id": "li_BhYUkAv4L",
        "outputId": "6520921c-eeca-4e68-8dde-ef562daf4b96"
      },
      "execution_count": null,
      "outputs": [
        {
          "output_type": "execute_result",
          "data": {
            "text/plain": [
              "numpy.ndarray"
            ]
          },
          "metadata": {},
          "execution_count": 3
        }
      ]
    },
    {
      "cell_type": "code",
      "source": [
        "lst2=[10,11,12]\n",
        "array2 = np.array(lst2)"
      ],
      "metadata": {
        "id": "AeO2X8UcBk5R"
      },
      "execution_count": null,
      "outputs": []
    },
    {
      "cell_type": "code",
      "source": [
        "print(f\"Adding two lists {lst1} and {lst2} together: {lst1+lst2}\")\n"
      ],
      "metadata": {
        "colab": {
          "base_uri": "https://localhost:8080/"
        },
        "id": "TrCODUhTB7V5",
        "outputId": "4f7d3341-a5ee-419c-bdb9-6150684d846e"
      },
      "execution_count": null,
      "outputs": [
        {
          "output_type": "stream",
          "name": "stdout",
          "text": [
            "Adding two lists [1, 2, 3] and [10, 11, 12] together: [1, 2, 3, 10, 11, 12]\n"
          ]
        }
      ]
    },
    {
      "cell_type": "code",
      "source": [
        "print(f\"Adding two numpy arrays {array1} and {array2} together: {array1+array2}\")"
      ],
      "metadata": {
        "colab": {
          "base_uri": "https://localhost:8080/"
        },
        "id": "zaHb_mUNCeye",
        "outputId": "fced1eca-6558-4f5a-b366-2002a33bcaf7"
      },
      "execution_count": null,
      "outputs": [
        {
          "output_type": "stream",
          "name": "stdout",
          "text": [
            "Adding two numpy arrays [1 2 3] and [10 11 12] together: [11 13 15]\n"
          ]
        }
      ]
    },
    {
      "cell_type": "code",
      "source": [
        "print(\"array2 multiplied by array1: \",array1*array2)\n",
        "print(\"array2 divided by array1: \",array2/array1)\n",
        "print(\"array2 raised to the power of array1: \",array2**array1)"
      ],
      "metadata": {
        "colab": {
          "base_uri": "https://localhost:8080/"
        },
        "id": "mycRkIVmCgjY",
        "outputId": "c6213753-430e-4460-a96c-7125b4eef64b"
      },
      "execution_count": null,
      "outputs": [
        {
          "output_type": "stream",
          "name": "stdout",
          "text": [
            "array2 multiplied by array1:  [10 22 36]\n",
            "array2 divided by array1:  [10.   5.5  4. ]\n",
            "array2 raised to the power of array1:  [  10  121 1728]\n"
          ]
        }
      ]
    },
    {
      "cell_type": "code",
      "source": [],
      "metadata": {
        "id": "fobn4yyhCexJ"
      },
      "execution_count": null,
      "outputs": []
    },
    {
      "cell_type": "code",
      "source": [
        "print(\"Sine: \",np.sin(array1))\n",
        "# logarithm\n",
        "print(\"Natural logarithm: \",np.log(array1))\n",
        "print(\"Base-10 logarithm: \",np.log10(array1))\n",
        "print(\"Base-2 logarithm: \",np.log2(array1))\n",
        "# Exponential\n",
        "print(\"Exponential: \",np.exp(array1))\n"
      ],
      "metadata": {
        "colab": {
          "base_uri": "https://localhost:8080/"
        },
        "id": "4uvN60xnConS",
        "outputId": "b7e9f4eb-30bc-4f3f-e505-fc9ee4614e5b"
      },
      "execution_count": null,
      "outputs": [
        {
          "output_type": "stream",
          "name": "stdout",
          "text": [
            "Sine:  [0.84147098 0.90929743 0.14112001]\n",
            "Natural logarithm:  [0.         0.69314718 1.09861229]\n",
            "Base-10 logarithm:  [0.         0.30103    0.47712125]\n",
            "Base-2 logarithm:  [0.        1.        1.5849625]\n",
            "Exponential:  [ 2.71828183  7.3890561  20.08553692]\n"
          ]
        }
      ]
    },
    {
      "cell_type": "code",
      "source": [
        "print(\"A series of zeroes:\",np.zeros(7))\n",
        "print(\"A series of ones:\",np.ones(9))\n",
        "print(\"A series of numbers:\",np.arange(5,16))\n",
        "print(\"Numbers spaced apart by 2:\",np.arange(0,11,2))\n",
        "print(\"Numbers spaced apart by float:\",np.arange(0,11,2.5))\n",
        "print(\"Every 5th number from 30 in reverse order: \",np.arange(30,-1,-5))\n",
        "print(\"11 linearly spaced numbers between 1 and 5: \",np.linspace(1,5,11))"
      ],
      "metadata": {
        "colab": {
          "base_uri": "https://localhost:8080/"
        },
        "id": "E7xh7SjFDAvA",
        "outputId": "681cf760-890f-4bb0-dec9-5982e4897cc4"
      },
      "execution_count": null,
      "outputs": [
        {
          "output_type": "stream",
          "name": "stdout",
          "text": [
            "A series of zeroes: [0. 0. 0. 0. 0. 0. 0.]\n",
            "A series of ones: [1. 1. 1. 1. 1. 1. 1. 1. 1.]\n",
            "A series of numbers: [ 5  6  7  8  9 10 11 12 13 14 15]\n",
            "Numbers spaced apart by 2: [ 0  2  4  6  8 10]\n",
            "Numbers spaced apart by float: [ 0.   2.5  5.   7.5 10. ]\n",
            "Every 5th number from 30 in reverse order:  [30 25 20 15 10  5  0]\n",
            "11 linearly spaced numbers between 1 and 5:  [1.  1.4 1.8 2.2 2.6 3.  3.4 3.8 4.2 4.6 5. ]\n"
          ]
        }
      ]
    },
    {
      "cell_type": "code",
      "source": [
        "my_mat = [[1,2,3],[4,5,6],[7,8,9]]\n",
        "mat = np.array(my_mat)\n",
        "print(\"Type/Class of this object:\",type(mat))\n",
        "print(\"Here is the matrix\\n----------\\n\",mat,\"\\n----------\")\n"
      ],
      "metadata": {
        "colab": {
          "base_uri": "https://localhost:8080/"
        },
        "id": "Vb0jEd4pDozg",
        "outputId": "7c39d845-b65e-42aa-ab8b-0fd1e148aa13"
      },
      "execution_count": null,
      "outputs": [
        {
          "output_type": "stream",
          "name": "stdout",
          "text": [
            "Type/Class of this object: <class 'numpy.ndarray'>\n",
            "Here is the matrix\n",
            "----------\n",
            " [[1 2 3]\n",
            " [4 5 6]\n",
            " [7 8 9]] \n",
            "----------\n"
          ]
        }
      ]
    },
    {
      "cell_type": "code",
      "source": [
        "my_tuple = np.array([(1.5,2,3), (4,5,6)])\n",
        "mat_tuple = np.array(my_tuple)\n",
        "print (mat_tuple)"
      ],
      "metadata": {
        "colab": {
          "base_uri": "https://localhost:8080/"
        },
        "id": "ZL7ll8B4Dzf3",
        "outputId": "267d6da1-84b1-47e8-d822-659d44f5edca"
      },
      "execution_count": null,
      "outputs": [
        {
          "output_type": "stream",
          "name": "stdout",
          "text": [
            "[[1.5 2.  3. ]\n",
            " [4.  5.  6. ]]\n"
          ]
        }
      ]
    },
    {
      "cell_type": "code",
      "source": [
        "print(\"Dimension of this matrix: \",mat.ndim,sep='')\n",
        "print(\"Size of this matrix: \", mat.size,sep='')\n",
        "print(\"Shape of this matrix: \", mat.shape,sep='')\n",
        "print(\"Data type of this matrix: \", mat.dtype,sep='')\n"
      ],
      "metadata": {
        "colab": {
          "base_uri": "https://localhost:8080/"
        },
        "id": "7_UiR3C7D7RJ",
        "outputId": "913cd142-7b21-4f63-db63-1fe565cafeac"
      },
      "execution_count": null,
      "outputs": [
        {
          "output_type": "stream",
          "name": "stdout",
          "text": [
            "Dimension of this matrix: 2\n",
            "Size of this matrix: 9\n",
            "Shape of this matrix: (3, 3)\n",
            "Data type of this matrix: int64\n"
          ]
        }
      ]
    },
    {
      "cell_type": "code",
      "source": [
        "print(\"Vector of zeros: \",np.zeros(5))\n",
        "print(\"Matrix of zeros: \",np.zeros((3,4)))\n",
        "print(\"Vector of ones: \",np.ones(4))\n",
        "print(\"Matrix of ones: \",np.ones((4,2)))\n",
        "print(\"Matrix of 5’s: \",5*np.ones((3,3)))\n",
        "print(\"Identity matrix of dimension 2:\",np.eye(2))\n",
        "print(\"Identity matrix of dimension 4:\",np.eye(4))\n",
        "print(\"Random matrix of shape (4,3):\\n\",np.random.randint(low=1,high=10,size=(4,3)))"
      ],
      "metadata": {
        "colab": {
          "base_uri": "https://localhost:8080/"
        },
        "id": "jEuHiQWhEERa",
        "outputId": "a9b3344f-c089-4b55-bc50-ab8135aa6ce8"
      },
      "execution_count": null,
      "outputs": [
        {
          "output_type": "stream",
          "name": "stdout",
          "text": [
            "Vector of zeros:  [0. 0. 0. 0. 0.]\n",
            "Matrix of zeros:  [[0. 0. 0. 0.]\n",
            " [0. 0. 0. 0.]\n",
            " [0. 0. 0. 0.]]\n",
            "Vector of ones:  [1. 1. 1. 1.]\n",
            "Matrix of ones:  [[1. 1.]\n",
            " [1. 1.]\n",
            " [1. 1.]\n",
            " [1. 1.]]\n",
            "Matrix of 5’s:  [[5. 5. 5.]\n",
            " [5. 5. 5.]\n",
            " [5. 5. 5.]]\n",
            "Identity matrix of dimension 2: [[1. 0.]\n",
            " [0. 1.]]\n",
            "Identity matrix of dimension 4: [[1. 0. 0. 0.]\n",
            " [0. 1. 0. 0.]\n",
            " [0. 0. 1. 0.]\n",
            " [0. 0. 0. 1.]]\n",
            "Random matrix of shape (4,3):\n",
            " [[9 1 1]\n",
            " [4 5 5]\n",
            " [7 4 8]\n",
            " [8 8 9]]\n"
          ]
        }
      ]
    },
    {
      "cell_type": "code",
      "source": [
        "a = np.random.randint(1,100,30)\n",
        "b = a.reshape(2,3,5)\n",
        "c = a.reshape(6,5)\n",
        "print (\"Shape of a:\", a.shape)\n",
        "print (\"Shape of b:\", b.shape)\n",
        "print (\"Shape of c:\", c.shape)\n"
      ],
      "metadata": {
        "colab": {
          "base_uri": "https://localhost:8080/"
        },
        "id": "Cfx3xeILEJP_",
        "outputId": "bf8d2022-52e9-452b-a750-733702a8f8a5"
      },
      "execution_count": null,
      "outputs": [
        {
          "output_type": "stream",
          "name": "stdout",
          "text": [
            "Shape of a: (30,)\n",
            "Shape of b: (2, 3, 5)\n",
            "Shape of c: (6, 5)\n"
          ]
        }
      ]
    },
    {
      "cell_type": "code",
      "source": [
        "print(\"\\na looks like:\\n\",a)\n",
        "print(\"\\nb looks like:\\n\",b)\n",
        "print(\"\\nc looks like:\\n\",c)"
      ],
      "metadata": {
        "colab": {
          "base_uri": "https://localhost:8080/"
        },
        "id": "E8IJ5bBgEaMQ",
        "outputId": "4cd6fc21-8b1f-4163-abd4-f1fa1bf653c2"
      },
      "execution_count": null,
      "outputs": [
        {
          "output_type": "stream",
          "name": "stdout",
          "text": [
            "\n",
            "a looks like:\n",
            " [32 52 79 49 32 30 86 39 38 46 87 72 70 34 39 73  1 87 54 87 46 76 59  5\n",
            " 12 69 40 97 25 28]\n",
            "\n",
            "b looks like:\n",
            " [[[32 52 79 49 32]\n",
            "  [30 86 39 38 46]\n",
            "  [87 72 70 34 39]]\n",
            "\n",
            " [[73  1 87 54 87]\n",
            "  [46 76 59  5 12]\n",
            "  [69 40 97 25 28]]]\n",
            "\n",
            "c looks like:\n",
            " [[32 52 79 49 32]\n",
            " [30 86 39 38 46]\n",
            " [87 72 70 34 39]\n",
            " [73  1 87 54 87]\n",
            " [46 76 59  5 12]\n",
            " [69 40 97 25 28]]\n"
          ]
        }
      ]
    },
    {
      "cell_type": "code",
      "source": [
        "b_flat = b.ravel()\n",
        "print(b_flat)"
      ],
      "metadata": {
        "colab": {
          "base_uri": "https://localhost:8080/"
        },
        "id": "CKmFReoMEgbB",
        "outputId": "b04f1e2a-59c3-4725-9e44-6dc8a4c47970"
      },
      "execution_count": null,
      "outputs": [
        {
          "output_type": "stream",
          "name": "stdout",
          "text": [
            "[32 52 79 49 32 30 86 39 38 46 87 72 70 34 39 73  1 87 54 87 46 76 59  5\n",
            " 12 69 40 97 25 28]\n"
          ]
        }
      ]
    },
    {
      "cell_type": "code",
      "source": [
        "arr = np.arange(0,11)\n",
        "print(\"Array:\",arr)\n",
        "print(\"Element at 7th index is:\", arr[7])\n",
        "print(\"Elements from 3rd to 5th index are:\", arr[3:6])\n",
        "print(\"Elements up to 4th index are:\", arr[:4])\n",
        "print(\"Elements from last backwards are:\", arr[-1::-1])\n",
        "print(\"3 Elements from last backwards are:\", arr[-1:-6:-2])\n",
        "\n",
        "arr2 = np.arange(0,21,2)\n",
        "print(\"New array:\",arr2)\n",
        "print(\"Elements at 2nd, 4th, and 9th index are:\", arr2[[2,4,9]])"
      ],
      "metadata": {
        "colab": {
          "base_uri": "https://localhost:8080/"
        },
        "id": "cjRwO7EkEl43",
        "outputId": "e82bff50-df6f-447d-cc11-8a5b9a55758e"
      },
      "execution_count": null,
      "outputs": [
        {
          "output_type": "stream",
          "name": "stdout",
          "text": [
            "Array: [ 0  1  2  3  4  5  6  7  8  9 10]\n",
            "Element at 7th index is: 7\n",
            "Elements from 3rd to 5th index are: [3 4 5]\n",
            "Elements up to 4th index are: [0 1 2 3]\n",
            "Elements from last backwards are: [10  9  8  7  6  5  4  3  2  1  0]\n",
            "3 Elements from last backwards are: [10  8  6]\n",
            "New array: [ 0  2  4  6  8 10 12 14 16 18 20]\n",
            "Elements at 2nd, 4th, and 9th index are: [ 4  8 18]\n"
          ]
        }
      ]
    },
    {
      "cell_type": "code",
      "source": [
        "mat = np.random.randint(10,100,15).reshape(3,5)\n",
        "print(\"Matrix of random 2-digit numbers\\n\",mat)\n",
        "\n",
        "print(\"\\nDouble bracket indexing\\n\")\n",
        "print(\"Element in row index 1 and column index 2:\", mat[1][2])\n",
        "\n",
        "print(\"\\nSingle bracket with comma indexing\\n\")\n",
        "print(\"Element in row index 1 and column index 2:\", mat[1,2])\n",
        "print(\"\\nRow or column extract\\n\")\n",
        "\n",
        "print(\"Entire row at index 2:\", mat[2])\n",
        "print(\"Entire column at index 3:\", mat[:,3])\n",
        "\n",
        "print(\"\\nSubsetting sub-matrices\\n\")\n",
        "print(\"Matrix with row indices 1 and 2 and column indices 3 and 4\\n\", mat[1:3,3:5])\n",
        "print(\"Matrix with row indices 0 and 1 and column indices 1 and 3\\n\", mat[0:2,[1,3]])"
      ],
      "metadata": {
        "colab": {
          "base_uri": "https://localhost:8080/"
        },
        "id": "DZPjO-ftEzon",
        "outputId": "6e659c0f-323a-4d87-83be-0a710dc24110"
      },
      "execution_count": null,
      "outputs": [
        {
          "output_type": "stream",
          "name": "stdout",
          "text": [
            "Matrix of random 2-digit numbers\n",
            " [[96 12 53 54 44]\n",
            " [61 64 97 96 95]\n",
            " [23 98 21 39 14]]\n",
            "\n",
            "Double bracket indexing\n",
            "\n",
            "Element in row index 1 and column index 2: 97\n",
            "\n",
            "Single bracket with comma indexing\n",
            "\n",
            "Element in row index 1 and column index 2: 97\n",
            "\n",
            "Row or column extract\n",
            "\n",
            "Entire row at index 2: [23 98 21 39 14]\n",
            "Entire column at index 3: [54 96 39]\n",
            "\n",
            "Subsetting sub-matrices\n",
            "\n",
            "Matrix with row indices 1 and 2 and column indices 3 and 4\n",
            " [[96 95]\n",
            " [39 14]]\n",
            "Matrix with row indices 0 and 1 and column indices 1 and 3\n",
            " [[12 54]\n",
            " [64 96]]\n"
          ]
        }
      ]
    },
    {
      "cell_type": "code",
      "source": [],
      "metadata": {
        "id": "hQa4WE5CE_g-"
      },
      "execution_count": null,
      "outputs": []
    },
    {
      "cell_type": "code",
      "source": [
        "mat = np.random.randint(10,100,15).reshape(3,5)\n",
        "print(\"Matrix of random 2-digit numbers\\n\",mat)\n",
        "print (\"\\nElements greater than 50\\n\", mat[mat>50])"
      ],
      "metadata": {
        "colab": {
          "base_uri": "https://localhost:8080/"
        },
        "id": "QXHpfIG1EEP_",
        "outputId": "776c0a07-1154-4855-cb08-e692dac2424b"
      },
      "execution_count": null,
      "outputs": [
        {
          "output_type": "stream",
          "name": "stdout",
          "text": [
            "Matrix of random 2-digit numbers\n",
            " [[82 46 30 11 53]\n",
            " [81 16 16 20 99]\n",
            " [94 75 75 92 82]]\n",
            "\n",
            "Elements greater than 50\n",
            " [82 53 81 99 94 75 75 92 82]\n"
          ]
        }
      ]
    },
    {
      "cell_type": "code",
      "source": [
        "mat>50"
      ],
      "metadata": {
        "colab": {
          "base_uri": "https://localhost:8080/"
        },
        "id": "fXZr-lCtFJbO",
        "outputId": "0725ed0c-4f29-4305-bf1e-872d313455db"
      },
      "execution_count": null,
      "outputs": [
        {
          "output_type": "execute_result",
          "data": {
            "text/plain": [
              "array([[ True, False, False, False,  True],\n",
              "       [ True, False, False, False,  True],\n",
              "       [ True,  True,  True,  True,  True]])"
            ]
          },
          "metadata": {},
          "execution_count": 22
        }
      ]
    },
    {
      "cell_type": "code",
      "source": [
        "mat*(mat>50)"
      ],
      "metadata": {
        "colab": {
          "base_uri": "https://localhost:8080/"
        },
        "id": "MYkjyDjuFOQ2",
        "outputId": "46817bfe-3cd4-4774-d6a0-d7cc447a00ba"
      },
      "execution_count": null,
      "outputs": [
        {
          "output_type": "execute_result",
          "data": {
            "text/plain": [
              "array([[82,  0,  0,  0, 53],\n",
              "       [81,  0,  0,  0, 99],\n",
              "       [94, 75, 75, 92, 82]])"
            ]
          },
          "metadata": {},
          "execution_count": 23
        }
      ]
    },
    {
      "cell_type": "code",
      "source": [
        "mat1 = np.random.randint(1,10,9).reshape(3,3)\n",
        "mat2 = np.random.randint(1,10,9).reshape(3,3)\n",
        "print(\"\\n1st Matrix of random single-digit numbers\\n\",mat1)\n",
        "print(\"\\n2nd Matrix of random single-digit numbers\\n\",mat2)\n",
        "\n",
        "print(\"\\nAddition\\n\", mat1+mat2)\n",
        "print(\"\\nMultiplication\\n\", mat1*mat2)\n",
        "print(\"\\nDivision\\n\", mat1/mat2)\n",
        "print(\"\\nLineaer combination: 3*A - 2*B\\n\", 3*mat1-2*mat2)\n",
        "\n",
        "print(\"\\nAddition of a scalar (100)\\n\", 100+mat1)\n",
        "\n",
        "print(\"\\nExponentiation, matrix cubed here\\n\", mat1**3)\n",
        "print(\"\\nExponentiation, sq-root using pow function\\n\",pow(mat1,0.5))"
      ],
      "metadata": {
        "colab": {
          "base_uri": "https://localhost:8080/"
        },
        "id": "fSaR6-06FYAu",
        "outputId": "b4c36e8f-e577-45cc-8fd1-50978a57d758"
      },
      "execution_count": null,
      "outputs": [
        {
          "output_type": "stream",
          "name": "stdout",
          "text": [
            "\n",
            "1st Matrix of random single-digit numbers\n",
            " [[6 2 5]\n",
            " [1 4 9]\n",
            " [4 8 4]]\n",
            "\n",
            "2nd Matrix of random single-digit numbers\n",
            " [[2 5 6]\n",
            " [8 8 6]\n",
            " [1 7 5]]\n",
            "\n",
            "Addition\n",
            " [[ 8  7 11]\n",
            " [ 9 12 15]\n",
            " [ 5 15  9]]\n",
            "\n",
            "Multiplication\n",
            " [[12 10 30]\n",
            " [ 8 32 54]\n",
            " [ 4 56 20]]\n",
            "\n",
            "Division\n",
            " [[3.         0.4        0.83333333]\n",
            " [0.125      0.5        1.5       ]\n",
            " [4.         1.14285714 0.8       ]]\n",
            "\n",
            "Lineaer combination: 3*A - 2*B\n",
            " [[ 14  -4   3]\n",
            " [-13  -4  15]\n",
            " [ 10  10   2]]\n",
            "\n",
            "Addition of a scalar (100)\n",
            " [[106 102 105]\n",
            " [101 104 109]\n",
            " [104 108 104]]\n",
            "\n",
            "Exponentiation, matrix cubed here\n",
            " [[216   8 125]\n",
            " [  1  64 729]\n",
            " [ 64 512  64]]\n",
            "\n",
            "Exponentiation, sq-root using pow function\n",
            " [[2.44948974 1.41421356 2.23606798]\n",
            " [1.         2.         3.        ]\n",
            " [2.         2.82842712 2.        ]]\n"
          ]
        }
      ]
    },
    {
      "cell_type": "code",
      "source": [
        "import pandas as pd"
      ],
      "metadata": {
        "id": "fb8GfDHBFgFX"
      },
      "execution_count": null,
      "outputs": []
    },
    {
      "cell_type": "code",
      "source": [
        "import numpy as np # Importing the numpy library with the alias 'np'\n",
        "labels = ['a','b','c']\n",
        "my_data = [10,20,30]\n",
        "arr = np.array(my_data)\n",
        "d = {'a':10,'b':20,'c':30}\n",
        "\n",
        "print (\"Labels:\", labels)\n",
        "print(\"My data:\", my_data)\n",
        "print(\"Dictionary:\", d)"
      ],
      "metadata": {
        "colab": {
          "base_uri": "https://localhost:8080/"
        },
        "id": "nKubER_FFtIO",
        "outputId": "4dc60173-7e20-458c-cbd1-c9ee9bbbbb14"
      },
      "execution_count": null,
      "outputs": [
        {
          "output_type": "stream",
          "name": "stdout",
          "text": [
            "Labels: ['a', 'b', 'c']\n",
            "My data: [10, 20, 30]\n",
            "Dictionary: {'a': 10, 'b': 20, 'c': 30}\n"
          ]
        }
      ]
    },
    {
      "cell_type": "code",
      "source": [
        "s1=pd.Series(data=my_data)\n",
        "print(s1)"
      ],
      "metadata": {
        "colab": {
          "base_uri": "https://localhost:8080/"
        },
        "id": "eynWsc_uFyin",
        "outputId": "402dd6af-11d8-4663-e809-3a2bb85bd714"
      },
      "execution_count": null,
      "outputs": [
        {
          "output_type": "stream",
          "name": "stdout",
          "text": [
            "0    10\n",
            "1    20\n",
            "2    30\n",
            "dtype: int64\n"
          ]
        }
      ]
    },
    {
      "cell_type": "code",
      "source": [
        "s2=pd.Series(data=my_data, index=labels)\n",
        "print(s2)\n"
      ],
      "metadata": {
        "colab": {
          "base_uri": "https://localhost:8080/"
        },
        "id": "XnNs0PdixO_0",
        "outputId": "3308bea8-d68e-45f3-ce4d-82d9660fa13a"
      },
      "execution_count": null,
      "outputs": [
        {
          "output_type": "stream",
          "name": "stdout",
          "text": [
            "a    10\n",
            "b    20\n",
            "c    30\n",
            "dtype: int64\n"
          ]
        }
      ]
    },
    {
      "cell_type": "code",
      "source": [
        "s3=pd.Series(arr, labels)\n",
        "print(s3)\n"
      ],
      "metadata": {
        "colab": {
          "base_uri": "https://localhost:8080/"
        },
        "id": "TUxir6l4xdKl",
        "outputId": "fd5bff29-c335-4a3b-af44-109ce48f3298"
      },
      "execution_count": null,
      "outputs": [
        {
          "output_type": "stream",
          "name": "stdout",
          "text": [
            "a    10\n",
            "b    20\n",
            "c    30\n",
            "dtype: int64\n"
          ]
        }
      ]
    },
    {
      "cell_type": "code",
      "source": [
        "s4=pd.Series(d)\n",
        "print(s4)"
      ],
      "metadata": {
        "colab": {
          "base_uri": "https://localhost:8080/"
        },
        "id": "vr_8t7MQxhCN",
        "outputId": "42f40f9c-10ba-4fb6-a375-747a7e17a145"
      },
      "execution_count": null,
      "outputs": [
        {
          "output_type": "stream",
          "name": "stdout",
          "text": [
            "a    10\n",
            "b    20\n",
            "c    30\n",
            "dtype: int64\n"
          ]
        }
      ]
    },
    {
      "cell_type": "code",
      "source": [
        "matrix_data = np.random.randint(1,20,size=20).reshape(5,4)\n",
        "row_labels = ['A','B','C','D','E']\n",
        "column_headings = ['W','X','Y','Z']\n",
        "\n",
        "df = pd.DataFrame(data=matrix_data, index=row_labels, columns=column_headings)\n",
        "print(\"\\nThe data frame looks like\\n\",'-'*45, sep='')\n",
        "print(df)"
      ],
      "metadata": {
        "colab": {
          "base_uri": "https://localhost:8080/"
        },
        "id": "360CLYYkxqB1",
        "outputId": "caab67dc-a3c7-4786-8bca-7a8f6f233551"
      },
      "execution_count": null,
      "outputs": [
        {
          "output_type": "stream",
          "name": "stdout",
          "text": [
            "\n",
            "The data frame looks like\n",
            "---------------------------------------------\n",
            "   W   X   Y   Z\n",
            "A  7   9   9   6\n",
            "B  1  17  16  16\n",
            "C  8  18  10  11\n",
            "D  3   5   5   3\n",
            "E  4   5   4  11\n"
          ]
        }
      ]
    },
    {
      "cell_type": "code",
      "source": [
        "d={'a':[10,20],'b':[30,40],'c':[50,60]}\n",
        "df2=pd.DataFrame(data=d,index=['X','Y'])\n",
        "print(df2)"
      ],
      "metadata": {
        "id": "cF1KQQX7x4u2",
        "outputId": "420669f3-7cb7-4e2b-911b-8b1394e74b04",
        "colab": {
          "base_uri": "https://localhost:8080/"
        }
      },
      "execution_count": null,
      "outputs": [
        {
          "output_type": "stream",
          "name": "stdout",
          "text": [
            "    a   b   c\n",
            "X  10  30  50\n",
            "Y  20  40  60\n"
          ]
        }
      ]
    }
  ]
}